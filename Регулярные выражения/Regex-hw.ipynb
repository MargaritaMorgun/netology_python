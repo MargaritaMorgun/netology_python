{
 "cells": [
  {
   "cell_type": "markdown",
   "metadata": {},
   "source": [
    "# Домашнее задание к лекции \"Регулярные выражения\"\n",
    "Для зачета необходимо выполнить 4 задания.  \n",
    "Для зачета с отличием – все."
   ]
  },
  {
   "cell_type": "markdown",
   "metadata": {},
   "source": [
    "## Задание 1"
   ]
  },
  {
   "cell_type": "markdown",
   "metadata": {},
   "source": [
    "Напишите функцию, которая принимает на вход строку и проверяет является ли она валидным транспортным номером. Если да, то функция должна возвращать отдельно номер и регион."
   ]
  },
  {
   "cell_type": "code",
   "execution_count": 1,
   "metadata": {},
   "outputs": [],
   "source": [
    "import re"
   ]
  },
  {
   "cell_type": "code",
   "execution_count": 5,
   "metadata": {},
   "outputs": [],
   "source": [
    "# ru.wikipedia.org/wiki/Регистрационные_знаки_транспортных_средств_в_России#Типы_регистрационных_знаков_России\n",
    "car_plate = 'Р539УХ60' # тип 1А\n",
    "# car_plate = 'АО36578' # тип 1Б"
   ]
  },
  {
   "cell_type": "code",
   "execution_count": 6,
   "metadata": {},
   "outputs": [
    {
     "name": "stdout",
     "output_type": "stream",
     "text": [
      "Регистрационный номер: 539 Код региона: 60\n",
      "Тип 1А\n"
     ]
    }
   ],
   "source": [
    "def cp(car_plate):\n",
    "    if re.match('([А|В|Е|К|М|Н|О|Р|С|Т|У|Х]{1}[0-9]{3}[А|В|Е|К|М|Н|О|Р|С|Т|У|Х]{2}[0-9]{2,3})+', car_plate): # тип 1А номеров\n",
    "        print('Регистрационный номер:', car_plate[1:4], 'Код региона:', car_plate[6:])\n",
    "        print('Тип 1А')\n",
    "    elif re.match('([А|В|Е|К|М|Н|О|Р|С|Т|У|Х]{2}[0-9]{3}[0-9]{2,3})', car_plate):  # тип 1Б номеров\n",
    "        print('Регистрационный номер:', car_plate[2:5], 'Код региона:', car_plate[5:])\n",
    "        print('Тип 1Б')\n",
    "    else:\n",
    "        print('The car plate', car_plate, 'is invalid'.format(car_plate))\n",
    "    return \n",
    "\n",
    "cp(car_plate)"
   ]
  },
  {
   "cell_type": "markdown",
   "metadata": {},
   "source": [
    "## Задание 2"
   ]
  },
  {
   "cell_type": "markdown",
   "metadata": {},
   "source": [
    "Напишите функцию, которая проверяет e-mail адрес на валидность по стандарту RFC822: http://www.w3.org/Protocols/rfc822/. Для этого постарайтесь написать (в крайнем случае найти) самый полный шаблон для проверки e-mail адресов через регулярное выражение. Разберитесь и напишите примеры, какие ваш шаблон может не охватить."
   ]
  },
  {
   "cell_type": "code",
   "execution_count": 67,
   "metadata": {},
   "outputs": [],
   "source": [
    "# username@hostname\n",
    "# шаблоном НЕ УЧТЕНЫ: регистрозависимость, исп спецсимволов (внутри строк с кавычками), исп комментариев в username, IP-адреса в hostname \n",
    "\n",
    "## корректные (по стандарту) адреса и охваченные предлагаемым шаблоном:\n",
    "# your_email = 'advert@gortis.ru'\n",
    "# your_email = 'wild.wezyr@best-server-ever.com'\n",
    "# your_email = 'prettyandsimple@example.com'\n",
    "# your_email = 'very.common@example.com'\n",
    "# your_email = 'disposable.style.email.with+symbol@example.com'\n",
    "# your_email = 'other.email-with-dash@example.com'\n",
    "# your_email = 'x@example.com'\n",
    "# your_email = 'example-indeed@strange-example.com'\n",
    "your_email = 'john.doe$%^@example.com'\n",
    "\n",
    "## корректные (по стандарту) адреса и не охваченные предлагаемым шаблоном::\n",
    "# your_email = '\"much.more unusual\"@example.com'# кавычки не предусмотрены шаблоном\n",
    "# your_email = '\"very.(),:;<>[]\\\".VERY.\\\"very@\\ \\\"very\\\".unusual\"@strange.example.com' # не предусмотрены шаблоном даже внутри строк в кавычках\n",
    "# your_email = 'user@[IPv6:2001:db8::1]'\n",
    "# your_email = '(comment)x@example.com'# кавычки не предусмотрены шаблоном\n",
    "\n",
    "## некорректные (по стандарту) адреса\n",
    "# your_email = 'x.@example.com'\n",
    "# your_email = 'Abc.example.com'\n",
    "# your_email = 'localname\"@\"part@example.com'\n",
    "# your_email = 'A@b@c@example.com'\n",
    "# your_email = 'john.doe@example..com'"
   ]
  },
  {
   "cell_type": "code",
   "execution_count": 68,
   "metadata": {},
   "outputs": [],
   "source": [
    "# regex_email = '^[-\\w.]+@([A-z0-9][-A-z0-9]+\\.)+[A-z]{2,4}$'\n",
    "# regex_email = '\\b[A-Z0-9._%+-]+@[A-Z0-9.-]+\\.[A-Z]{2,4}\\b'\n",
    "regex_email = '^[a-z0-9\\!\\#\\$\\%\\&\\'\\*\\+\\-\\/\\=\\?\\^\\_\\`\\{\\|\\}\\~]+(\\.[a-z0-9-\\!\\#\\$\\%\\&\\'\\*\\+\\/\\=\\?\\^\\_\\`\\{\\|\\}\\~]+)*\\\n",
    "@([a-z0-9][-a-z0-9]+\\.)+[a-z]{2,6}$'"
   ]
  },
  {
   "cell_type": "code",
   "execution_count": 69,
   "metadata": {},
   "outputs": [
    {
     "name": "stdout",
     "output_type": "stream",
     "text": [
      "The email john.doe$%^@example.com is a valid email\n"
     ]
    }
   ],
   "source": [
    "if re.match(regex_email, your_email):\n",
    "    print('The email {} is a valid email'.format(your_email))\n",
    "else:\n",
    "    print('The email {} is invalid'.format(your_email))   "
   ]
  },
  {
   "cell_type": "markdown",
   "metadata": {},
   "source": [
    "## Задание 3\n",
    "Напишите функцию, которая будет удалять все последовательные повторы слов из заданной строки."
   ]
  },
  {
   "cell_type": "code",
   "execution_count": 70,
   "metadata": {},
   "outputs": [],
   "source": [
    "# повтор - слово, один или несколько пробельных символов\n",
    "text = 'Довольно распространённая ошибка ошибка — это лишний повтор повтор слова слова. \\\n",
    "Смешно, не не правда ли? Не нужно портить хор хоровод.'"
   ]
  },
  {
   "cell_type": "code",
   "execution_count": 71,
   "metadata": {},
   "outputs": [
    {
     "name": "stdout",
     "output_type": "stream",
     "text": [
      "Довольно распространённая ошибка — это лишний повтор слова. Смешно, не правда ли? Не нужно портить хоровод.\n"
     ]
    }
   ],
   "source": [
    "def del_serial_repeats(text):\n",
    "    dsr = re.sub(r'(\\w+)(\\s+\\1)+', r'\\1', text) # \\1 - слово, совпадающее с предыдущим словом\n",
    "    return dsr\n",
    "\n",
    "print(del_serial_repeats(text))\n"
   ]
  },
  {
   "cell_type": "markdown",
   "metadata": {},
   "source": [
    "# Задание 4\n",
    "Напишите функцию, которая будет проверять номер сотового телефона на валидность, если он валиден, то переводить его в формат:   \n",
    "+7(xxx)-xxx-xx-xx  \n",
    "Постарайтесь предусмотреть как можно больше адекватных форматов изначального ввода номера.\n",
    "Примеры правильных и неправильных форматов:\n",
    "- +7 955 555-55-55;\n",
    "- 955555555;\n",
    "- 8(955)555-55-55;\n",
    "- +7 955 555 55 55;\n",
    "- 7(955) 555-55-55;\n",
    "- +7 955+555+55+55."
   ]
  },
  {
   "cell_type": "code",
   "execution_count": 87,
   "metadata": {},
   "outputs": [],
   "source": [
    "# mobile_phone = '+7(910)222-22-28'\n",
    "# mobile_phone = '+7 955 555-55-55'\n",
    "# mobile_phone = '955555555'\n",
    "# mobile_phone = '8(955)555-55-55'\n",
    "# mobile_phone = '+7 955 555 55 55'\n",
    "# mobile_phone = '7(955) 555-55-55'\n",
    "# mobile_phone = '+7 955+555+55+55'\n",
    "# mobile_phone = '+7 (955) 555-44-55'\n",
    "mobile_phone = '89555554456'"
   ]
  },
  {
   "cell_type": "code",
   "execution_count": 88,
   "metadata": {},
   "outputs": [
    {
     "name": "stdout",
     "output_type": "stream",
     "text": [
      "+7(955)-555-44-56\n"
     ]
    }
   ],
   "source": [
    "def tel_validation(mobile_phone):\n",
    "    mp = re.sub(r'\\D', '', mobile_phone).strip()\n",
    "    regex_mp = '([7-8]{1})([0-9]{3})([0-9]{3})([0-9]{2})([0-9]{2})'\n",
    "    if len(mp) >= 10 and len(mp) < 12:\n",
    "        if re.findall('^7|^8', mp) and len(mp[1:]) >= 10:\n",
    "    #     print(len(mp[1:]))\n",
    "    #     if len(mp[1:]) >= 10:\n",
    "    #         mp = re.sub(r'([7-8]{1})([0-9]{3})([0-9]{3})([0-9]{2})([0-9]{2})', r'+7(\\2)-\\3-\\4-\\5', mp)\n",
    "            mp = re.sub(regex_mp, r'+7(\\2)-\\3-\\4-\\5', mp)\n",
    "            print(mp)\n",
    "        else:\n",
    "            print('mobile phone', mobile_phone, 'is invalid')\n",
    "    else:\n",
    "        print('mobile phone', mobile_phone, 'is invalid')\n",
    "    return\n",
    "\n",
    "tel_validation(mobile_phone)"
   ]
  },
  {
   "cell_type": "code",
   "execution_count": null,
   "metadata": {},
   "outputs": [],
   "source": []
  }
 ],
 "metadata": {
  "celltoolbar": "Raw Cell Format",
  "kernelspec": {
   "display_name": "Python 3",
   "language": "python",
   "name": "python3"
  },
  "language_info": {
   "codemirror_mode": {
    "name": "ipython",
    "version": 3
   },
   "file_extension": ".py",
   "mimetype": "text/x-python",
   "name": "python",
   "nbconvert_exporter": "python",
   "pygments_lexer": "ipython3",
   "version": "3.7.3"
  }
 },
 "nbformat": 4,
 "nbformat_minor": 2
}
