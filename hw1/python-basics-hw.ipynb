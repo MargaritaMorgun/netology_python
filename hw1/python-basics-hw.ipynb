{
 "cells": [
  {
   "cell_type": "markdown",
   "metadata": {},
   "source": [
    "**Задание 1**. Даны 2 строки: *long_phrase* и *short_phrase*. \n",
    "Напишите код, который проверяет действительно ли длинная фраза *long_phrase* длиннее короткой *short_phrase*. И выводит *True* или *False* в зависимости от результата сравнения."
   ]
  },
  {
   "cell_type": "code",
   "execution_count": 2,
   "metadata": {},
   "outputs": [],
   "source": [
    "long_phrase = 'Насколько проще было бы писать программы, если бы не заказчики'\n",
    "short_phrase = '640Кб должно хватить для любых задач. Билл Гейтс (по легенде)'"
   ]
  },
  {
   "cell_type": "code",
   "execution_count": 8,
   "metadata": {},
   "outputs": [
    {
     "name": "stdout",
     "output_type": "stream",
     "text": [
      "True\n"
     ]
    }
   ],
   "source": [
    "if len(long_phrase) > len(short_phrase):\n",
    "    print('True')\n",
    "else:\n",
    "    print('False')"
   ]
  },
  {
   "cell_type": "markdown",
   "metadata": {},
   "source": [
    "**Задание 2**. Дано значение объема файла в байтах. Напишите перевод этого значения в мегабайты в формате: \"*Объем файла равен 213.68Mb*\""
   ]
  },
  {
   "cell_type": "code",
   "execution_count": 2,
   "metadata": {},
   "outputs": [
    {
     "name": "stdout",
     "output_type": "stream",
     "text": [
      "Введите размер файла в байтах: 8000000\n",
      "Размер файла в мегабайтах равен: 7.63 Mb\n"
     ]
    }
   ],
   "source": [
    "file_size = int(input('Введите размер файла в байтах: '))\n",
    "file_size = round(file_size / 1048576, 2)\n",
    "#file_size = float('{:.2f}'.format(file_size / 1048576))\n",
    "print('Размер файла в мегабайтах равен:', file_size, 'Mb' )"
   ]
  },
  {
   "cell_type": "markdown",
   "metadata": {},
   "source": [
    "**Задание 3**. Разработать приложение для определения знака зодиака по дате рождения. Пример:\n",
    "\n",
    "Введите месяц: март\n",
    "\n",
    "Введите число: 6\n",
    "\n",
    "Вывод:\n",
    "Рыбы"
   ]
  },
  {
   "cell_type": "code",
   "execution_count": 7,
   "metadata": {},
   "outputs": [
    {
     "name": "stdout",
     "output_type": "stream",
     "text": [
      "Введите строчными буквами название месяца даты рождения: август\n",
      "Введите число месяца: 4\n",
      "знак зодиака, соответствующий дате рождения: лев\n"
     ]
    }
   ],
   "source": [
    "month_of_birth = input('Введите строчными буквами название месяца даты рождения: ')\n",
    "birthday = int(input('Введите число месяца: '))\n",
    "if (month_of_birth == 'март' and birthday >= 21) or (month_of_birth == 'апрель' and birthday < 19):\n",
    "    print('знак зодиака, соответствующий дате рождения: овен')\n",
    "elif (month_of_birth == 'апрель' and birthday >= 20) or (month_of_birth == 'май' and birthday < 20):\n",
    "    print('знак зодиака, соответствующий дате рождения: телец')\n",
    "elif (month_of_birth == 'май' and birthday >= 21) or (month_of_birth == 'июнь' and birthday < 21):\n",
    "    print('знак зодиака, соответствующий дате рождения: близнецы')\n",
    "elif (month_of_birth == 'июнь' and birthday >= 22) or (month_of_birth == 'июль' and birthday < 22):\n",
    "    print('знак зодиака, соответствующий дате рождения: рак') \n",
    "elif (month_of_birth == 'июль' and birthday >= 23) or (month_of_birth == 'август' and birthday < 22):\n",
    "    print('знак зодиака, соответствующий дате рождения: лев')\n",
    "elif (month_of_birth == 'август' and birthday >= 23) or (month_of_birth == 'сентябрь' and birthday < 22):\n",
    "    print('знак зодиака, соответствующий дате рождения: дева') \n",
    "elif (month_of_birth == 'сентябрь' and birthday >= 23) or (month_of_birth == 'октябрь' and birthday < 23):\n",
    "    print('знак зодиака, соответствующий дате рождения: весы')\n",
    "elif (month_of_birth == 'октябрь' and birthday >= 24) or (month_of_birth == 'ноябрь' and birthday < 22):\n",
    "    print('знак зодиака, соответствующий дате рождения: скорпион')\n",
    "elif (month_of_birth == 'ноябрь' and birthday >= 23) or (month_of_birth == 'декабрь' and birthday < 21):\n",
    "    print('знак зодиака, соответствующий дате рождения: стрелец')\n",
    "elif (month_of_birth == 'декабрь' and birthday >= 22) or (month_of_birth == 'январь' and birthday < 20):\n",
    "    print('знак зодиака, соответствующий дате рождения: козерог')\n",
    "elif (month_of_birth == 'январь' and birthday >= 21) or (month_of_birth == 'февраль' and birthday < 18):\n",
    "    print('знак зодиака, соответствующий дате рождения: водолей')\n",
    "elif (month_of_birth == 'февраль' and birthday >= 19) or (month_of_birth == 'март' and birthday < 20):\n",
    "    print('знак зодиака, соответствующий дате рождения: близнецы')\n",
    "else:\n",
    "    print('конец программы')"
   ]
  },
  {
   "cell_type": "code",
   "execution_count": null,
   "metadata": {},
   "outputs": [],
   "source": []
  },
  {
   "cell_type": "markdown",
   "metadata": {},
   "source": [
    "**Задание 4**. Нужно разработать приложение для финансового планирования.\n",
    "Приложение учитывает сколько уходит на ипотеку, \"на жизнь\" и сколько нужно отложить на пенсию.\n",
    "Пользователь вводит:\n",
    "- заработанную плату в месяц.\n",
    "- сколько процентов от ЗП уходит на ипотеку.\n",
    "- сколько процентов от ЗП уходит \"на жизнь\".\n",
    "- сколько раз приходит премия в год.\n",
    "\n",
    "Остальная часть заработанной платы откладывается на пенсию.\n",
    "\n",
    "Также пользователю приходит премия в размере зарплаты, от которой половина уходит на отпуск, а вторая половина откладывается.\n",
    "\n",
    "Программа должна учитывать сколько премий было в год.\n",
    "\n",
    "Нужно вывести сколько денег тратит пользователь на ипотеку и сколько он накопит за год.\n",
    "\n",
    "Пример:\n",
    "\n",
    "Введите заработанную плату в месяц: 100000\n",
    "\n",
    "Введите сколько процентов уходит на ипотеку: 30\n",
    "\n",
    "Введите сколько процентов уходит на жизнь: 50\n",
    "\n",
    "Введите количество премий за год: 2\n",
    "\n",
    "Вывод:\n",
    "На ипотеку было потрачено: 360000 рублей\n",
    "Было накоплено: 340000 рублей"
   ]
  },
  {
   "cell_type": "code",
   "execution_count": 31,
   "metadata": {},
   "outputs": [
    {
     "name": "stdout",
     "output_type": "stream",
     "text": [
      "Введите размер месячной зарплаты в рублях: 100000\n",
      "Введите в процентах от зарплаты долю расходов на ипотеку: 12\n",
      "Введите в процентах от зарплаты долю расходов \"на жизнь\": 55\n",
      "Введите количество премий за год: 1\n",
      "За год расходы на ипотеку составят: 144000 рублей. Сбержения достигнут: 446000 рублей\n"
     ]
    }
   ],
   "source": [
    "salary = int(input('Введите размер месячной зарплаты в рублях: '))\n",
    "share_morgage = int(input('Введите в процентах от зарплаты долю расходов на ипотеку: '))\n",
    "morgage = salary * 12 * share_morgage / 100\n",
    "#print('За год расходы на ипотеку составят:', morgage, 'рублей')\n",
    "share_expenses = int(input('Введите в процентах от зарплаты долю расходов \"на жизнь\": '))\n",
    "expenses = salary * 12 * share_expenses / 100\n",
    "#print('За год расходы \"на жизнь\" составят:', expenses, 'рублей')\n",
    "count_bonus = int(input('Введите количество премий за год: '))\n",
    "capital = salary * 12 + count_bonus * salary / 2 - morgage - expenses\n",
    "print('За год расходы на ипотеку составят:', int(morgage), 'рублей. Сбержения достигнут:', int(capital), 'рублей')"
   ]
  },
  {
   "cell_type": "markdown",
   "metadata": {},
   "source": [
    "Дополнительное задание\n",
    "\n",
    "Задание 1\n",
    "https://ru.wikipedia.org/wiki/Fizz_buzz\n",
    "Начинающий произносит число “1”, и каждый следующий игрок прибавляет к предыдущему значению единицу. Когда число делится на три оно заменяется на fizz, если число делится на пять, то произносится buzz. Числа, делящиеся на три и пять одновременно заменяются на fizz buzz. Сделавший ошибку игрок исключается из игры.\n",
    "\n",
    "Типичная партия в fizz buzz выглядит так:\n",
    "1, 2, Fizz, 4, Buzz, Fizz, 7, 8, Fizz, Buzz, 11, Fizz, 13, 14, Fizz Buzz, 16, 17, Fizz, 19, Buzz, Fizz, 22, 23, Fizz, Buzz, 26, Fizz, 28, 29, Fizz Buzz, 31, 32, Fizz, 34, Buzz, Fizz, …\n",
    "\n",
    "Напишите код, выводящий на экран первые n элементов этой игры (естественно, корректные)."
   ]
  },
  {
   "cell_type": "code",
   "execution_count": 54,
   "metadata": {},
   "outputs": [
    {
     "name": "stdout",
     "output_type": "stream",
     "text": [
      "Введите число элементов игры n > 1: 15\n",
      "1\n",
      "2\n",
      "fizz\n",
      "4\n",
      "buzz\n",
      "fizz\n",
      "7\n",
      "8\n",
      "fizz\n",
      "buzz\n",
      "11\n",
      "fizz\n",
      "13\n",
      "14\n",
      "fizz buzz\n",
      "конец игры\n"
     ]
    }
   ],
   "source": [
    "n = int(input('Введите число элементов игры n > 1: '))\n",
    "value = 1\n",
    "#print(value)\n",
    "while value <= n:\n",
    "    if value % 3 == 0 and value % 5 == 0:\n",
    "        print('fizz buzz')\n",
    "    elif value % 3 == 0:\n",
    "        print('fizz')\n",
    "    elif value % 5 == 0:\n",
    "        print('buzz')\n",
    "    else:\n",
    "        print(value)\n",
    "    value = value + 1\n",
    "#        print(value)\n",
    "print('конец игры')"
   ]
  },
  {
   "cell_type": "markdown",
   "metadata": {},
   "source": [
    "Задание 2\n",
    "Датчик принимает сигнал, состоящий из 0 и 1. Известно, что сигнал имеет периодичность, не превышающей натурального числа n. \n",
    "Напишите код, который вычисляет периодичность сигнала. \n",
    "Считайте, что 3 < n < 1000, а общая длина сигнала значительно превышает n.\n",
    "\n",
    "Пример сигнала с периодичностью 4 (повторяющийся элемент 1011):\n",
    "1011 1011 1011 1011 1011 1011 1011 1011 1011 1011\n",
    "\n",
    "Еще одна интерпретация задачи, но без кода: https://tproger.ru/problems/endless-train/"
   ]
  },
  {
   "cell_type": "code",
   "execution_count": 46,
   "metadata": {},
   "outputs": [
    {
     "data": {
      "text/plain": [
       "0"
      ]
     },
     "execution_count": 46,
     "metadata": {},
     "output_type": "execute_result"
    }
   ],
   "source": []
  },
  {
   "cell_type": "markdown",
   "metadata": {},
   "source": [
    "Задание 3\n",
    "Дано слово из латинских букв. Напишите скрипт, который выводит на экран букву из середины слова (если число букв нечетное). Если букв четное число, то на экран выводятся две буквы из середины.\n",
    "\n",
    "Для ‘test’ - 'es’\n",
    "Для ‘testing’ - ‘t’"
   ]
  },
  {
   "cell_type": "code",
   "execution_count": 56,
   "metadata": {},
   "outputs": [
    {
     "data": {
      "text/plain": [
       "11"
      ]
     },
     "execution_count": 56,
     "metadata": {},
     "output_type": "execute_result"
    }
   ],
   "source": [
    "\n"
   ]
  },
  {
   "cell_type": "code",
   "execution_count": null,
   "metadata": {},
   "outputs": [],
   "source": []
  }
 ],
 "metadata": {
  "kernelspec": {
   "display_name": "Python 3",
   "language": "python",
   "name": "python3"
  },
  "language_info": {
   "codemirror_mode": {
    "name": "ipython",
    "version": 3
   },
   "file_extension": ".py",
   "mimetype": "text/x-python",
   "name": "python",
   "nbconvert_exporter": "python",
   "pygments_lexer": "ipython3",
   "version": "3.7.3"
  }
 },
 "nbformat": 4,
 "nbformat_minor": 2
}
