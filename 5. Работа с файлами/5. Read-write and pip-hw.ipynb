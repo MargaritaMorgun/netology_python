{
 "cells": [
  {
   "cell_type": "markdown",
   "metadata": {},
   "source": [
    "**Домашнее задание**\n",
    "\n",
    "1. Переведите содержимое файла purchase_log.txt в словарь purchases вида:\n",
    "{'1840e0b9d4': 'Продукты', ...}\n",
    "\n",
    "2. Для каждого user_id в файле visit_log.csv добавьте третий столбец с категорией покупки (если покупка была).\n",
    "\n",
    "3. Запишите в файл funnel.csv визиты из файла visit_log.csv, в которых были покупки с указанием категории.\n",
    "\n",
    "Учтите условия на данные:\n",
    "- содержимое purchase_log.txt помещается в оперативную память компьютера\n",
    "- содержимое visit_log.csv - нет; используйте только построчную обработку этого файла"
   ]
  },
  {
   "cell_type": "code",
   "execution_count": 2,
   "metadata": {},
   "outputs": [],
   "source": [
    "import json"
   ]
  },
  {
   "cell_type": "code",
   "execution_count": 3,
   "metadata": {},
   "outputs": [],
   "source": [
    "# п.1: перевести содержимое файла purchase_log.txt в словарь purchases вида: {'1840e0b9d4': 'Продукты', ...}\n",
    "purchases = {}\n",
    "with open('purchase_log.txt', encoding='utf-8') as f:\n",
    "#     next(f)\n",
    "    for line in f:\n",
    "        line = line.strip()\n",
    "        dict_ = json.loads(line)\n",
    "        purchases[dict_['user_id']] = dict_['category'] # >> {'user_id': 'category', '1840e0b9d4': 'Продукты',..}\n",
    "        "
   ]
  },
  {
   "cell_type": "code",
   "execution_count": null,
   "metadata": {},
   "outputs": [],
   "source": []
  },
  {
   "cell_type": "code",
   "execution_count": 5,
   "metadata": {},
   "outputs": [],
   "source": [
    "# п.2: для каждого user_id в файле visit_log.csv добавить третий столбец с категорией покупки (если покупка была).\n",
    "result = []\n",
    "with open('visits_purchases.csv', 'w') as p:\n",
    "    with open('visit_log.csv') as vl:\n",
    "        next(vl)\n",
    "        for visit in vl:    \n",
    "            visit = visit.strip().split(',') # ['user_id', 'source'] ['6450655ae8', 'other'] ...\n",
    "            if visit[0] in purchases.keys():\n",
    "                result = {'user_id': visit[0], 'source': visit[1], 'category': purchases.get(visit[0])}\n",
    "                line = json.dumps(result, ensure_ascii=False)\n",
    "                p.write(line + '\\n') # >> {\"user_id\": \"1840e0b9d4\", \"source\": \"other\", \"category\": \"Продукты\"}\n",
    "            else:\n",
    "                result = {'user_id': visit[0], 'source': visit[1]}\n",
    "                line = json.dumps(result)\n",
    "                p.write(line + '\\n') # >> {\"user_id\": \"1840e0b9d4\", \"source\": \"other\"}\n",
    "                "
   ]
  },
  {
   "cell_type": "code",
   "execution_count": 6,
   "metadata": {},
   "outputs": [],
   "source": [
    "# п.3. записать в файл funnel.csv визиты из файла visit_log.csv, в которых были покупки с указанием категории.\n",
    "result3 = []\n",
    "with open('funnel.csv', 'w') as f:\n",
    "    with open('visit_log.csv') as vl:\n",
    "        next(vl)\n",
    "        for visit in vl:\n",
    "            visit = visit.strip().split(',') # ['user_id', 'source'] ['6450655ae8', 'other'] ...\n",
    "            if visit[0] in purchases.keys():\n",
    "                result3 = {'user_id': visit[0], 'category': purchases.get(visit[0])}\n",
    "                line = json.dumps(result3, ensure_ascii=False)\n",
    "                f.write(line + '\\n') # >> {\"user_id\": \"1840e0b9d4\", \"source\": \"other\", \"category\": \"Продукты\"}"
   ]
  },
  {
   "cell_type": "code",
   "execution_count": 8,
   "metadata": {},
   "outputs": [],
   "source": [
    "import pickle"
   ]
  },
  {
   "cell_type": "code",
   "execution_count": 9,
   "metadata": {},
   "outputs": [],
   "source": [
    "# п.3. записать в файл funnel.csv визиты из файла visit_log.csv, в которых были покупки с указанием категории.\n",
    "# записываем в файл методом pickle\n",
    "result3 = []\n",
    "with open('funnel.pickle', 'wb') as f:\n",
    "    with open('visit_log.csv') as vl:\n",
    "        next(vl)\n",
    "        for visit in vl:\n",
    "            visit = visit.strip().split(',') # ['user_id', 'source'] ['6450655ae8', 'other'] ...\n",
    "            if visit[0] in purchases.keys():\n",
    "                result3 = {'user_id': visit[0], 'category': purchases.get(visit[0])}\n",
    "                pickle.dump(result3, f)"
   ]
  },
  {
   "cell_type": "code",
   "execution_count": null,
   "metadata": {},
   "outputs": [],
   "source": [
    "# вывод файла полностью:\n",
    "with open ('funnel.pickle', 'rb') as f:\n",
    "    try:\n",
    "        while True:\n",
    "            print(pickle.load(f))\n",
    "    except EOFError:\n",
    "        pass"
   ]
  },
  {
   "cell_type": "code",
   "execution_count": null,
   "metadata": {},
   "outputs": [],
   "source": []
  }
 ],
 "metadata": {
  "kernelspec": {
   "display_name": "Python 3",
   "language": "python",
   "name": "python3"
  },
  "language_info": {
   "codemirror_mode": {
    "name": "ipython",
    "version": 3
   },
   "file_extension": ".py",
   "mimetype": "text/x-python",
   "name": "python",
   "nbconvert_exporter": "python",
   "pygments_lexer": "ipython3",
   "version": "3.7.3"
  }
 },
 "nbformat": 4,
 "nbformat_minor": 2
}
