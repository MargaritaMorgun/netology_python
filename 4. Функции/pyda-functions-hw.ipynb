{
 "cells": [
  {
   "cell_type": "markdown",
   "metadata": {},
   "source": [
    "## Задание 1"
   ]
  },
  {
   "cell_type": "markdown",
   "metadata": {},
   "source": [
    "Дан список вида:"
   ]
  },
  {
   "cell_type": "code",
   "execution_count": 128,
   "metadata": {},
   "outputs": [],
   "source": [
    "data = [\n",
    "    [13, 25, 23, 34],\n",
    "    [45, 32, 44, 47],\n",
    "    [12, 33, 23, 95],\n",
    "    [13, 53, 34, 35]\n",
    "]"
   ]
  },
  {
   "cell_type": "markdown",
   "metadata": {},
   "source": [
    "Напишите функцию, которая возвращает сумму элементов на диагонали. Т. е. 13+32+23+35.  \n",
    "Список может быть любой длины, но всегда является \"квадратным\" (количество элементов во вложенных списках равно их количеству)."
   ]
  },
  {
   "cell_type": "code",
   "execution_count": 130,
   "metadata": {},
   "outputs": [
    {
     "name": "stdout",
     "output_type": "stream",
     "text": [
      "103\n"
     ]
    }
   ],
   "source": [
    "def sum_diag_tabl(data):\n",
    "    \"\"\"\n",
    "    расчет суммы значений элементов главной диагонали 'квадратной' таблицы\n",
    "    \n",
    "    \"\"\"\n",
    "    sum_el = 0\n",
    "    for i in range(len(data)):\n",
    "    #     print(i)\n",
    "        for j in range(len(data)):\n",
    "    #         print(j)\n",
    "            if i == j:\n",
    "    #             print(data[i][j])\n",
    "                sum_el += data[i][j]\n",
    "#     print(sum_el)\n",
    "    return sum_el\n",
    "# print(sum_el)\n",
    "\n",
    "print(sum_diag_tabl(data))"
   ]
  },
  {
   "cell_type": "code",
   "execution_count": 39,
   "metadata": {},
   "outputs": [],
   "source": [
    "?sum_diag_tabl"
   ]
  },
  {
   "cell_type": "markdown",
   "metadata": {},
   "source": [
    "## Задание 2"
   ]
  },
  {
   "cell_type": "markdown",
   "metadata": {},
   "source": [
    "Напишите функцию, возвращающую сумму первых n чисел Фибоначчи (для этого вам может понадобится ознакомиться с рекурсией)."
   ]
  },
  {
   "cell_type": "code",
   "execution_count": null,
   "metadata": {},
   "outputs": [],
   "source": [
    "# Числа Фибоначчи — элементы числовой последовательности, в которой первые два числа равны либо 1 и 1, либо 0 и 1, \n",
    "# а каждое последующее число равно сумме двух предыдущих чисел:\n",
    "# 0, 1, 1, 2, 3, 5, 8, 13, 21, 34, 55, 89, 144, 233, 377, 610, 987, 1597, 2584, 4181, 6765, 10946, 17711,..\n",
    "# Рекурсия происходит, когда вызов функции вызывает повторный вызов той же самой функции до завершения исходного вызова функции"
   ]
  },
  {
   "cell_type": "code",
   "execution_count": 61,
   "metadata": {},
   "outputs": [
    {
     "name": "stdout",
     "output_type": "stream",
     "text": [
      "Введите кол-во первых чисел Фибоначчи n: 9\n",
      "Искомая последовательность n чисел Фибоначчи:  [0, 1, 1, 2, 3, 5, 8, 13, 21]\n",
      "Сумма первых n чисел Фибоначчи: 54\n"
     ]
    }
   ],
   "source": [
    "n_fib = []\n",
    "def fib(i):\n",
    "    if i == 1:\n",
    "        num_fib = 0\n",
    "    elif i == 2:\n",
    "        num_fib = 1\n",
    "    else:\n",
    "        num_fib = fib(i-1) + fib(i-2)\n",
    "   \n",
    "    return num_fib\n",
    "n = int(input('Введите кол-во первых чисел Фибоначчи n: '))\n",
    "for i in range(1, n+1):\n",
    "    fib(i)\n",
    "#     print('Число Фибоначчи: ', fib(i))\n",
    "    n_fib.append(fib(i))\n",
    "print('Искомая последовательность n чисел Фибоначчи: ', n_fib)\n",
    "print('Сумма первых n чисел Фибоначчи:', sum(n_fib))"
   ]
  },
  {
   "cell_type": "markdown",
   "metadata": {},
   "source": [
    "## Задание 3\n"
   ]
  },
  {
   "cell_type": "markdown",
   "metadata": {},
   "source": [
    "Напишите функцию, преобразующую произвольный список вида ['2018-01-01', 'yandex', 'cpc', 100] (он может быть любой длины) в словарь {'2018-01-01': {'yandex': {'cpc': 100}}}"
   ]
  },
  {
   "cell_type": "code",
   "execution_count": 136,
   "metadata": {},
   "outputs": [],
   "source": [
    "sp = ['2018-01-01', 'yandex', 'cpc', 100]"
   ]
  },
  {
   "cell_type": "code",
   "execution_count": 140,
   "metadata": {},
   "outputs": [
    {
     "name": "stdout",
     "output_type": "stream",
     "text": [
      "{'2018-01-01': {'yandex': {'cpc': 100}}}\n"
     ]
    }
   ],
   "source": [
    "def transformation(sp):\n",
    "    value = sp[-1]\n",
    "    for i in range(len(sp)-1):\n",
    "        sl = {sp[-(i+2)]:value}\n",
    "        value = sl\n",
    "    #     print('sl=', sl)\n",
    "    #     print('i=', i, 'value=', value)\n",
    "    #     print(sl)\n",
    "    #     print()\n",
    "    return sl\n",
    "\n",
    "print(transformation(sp))"
   ]
  },
  {
   "cell_type": "markdown",
   "metadata": {},
   "source": [
    "## Задание 4"
   ]
  },
  {
   "cell_type": "markdown",
   "metadata": {},
   "source": [
    "Вы работаете секретарем и вам постоянно приходят различные документы. Вы должны быть очень внимательны, чтобы не потерять ни один документ. Каталог документов хранится в следующем виде:"
   ]
  },
  {
   "cell_type": "code",
   "execution_count": 163,
   "metadata": {},
   "outputs": [],
   "source": [
    "documents = [\n",
    "    {'type': 'passport', 'number': '2207 876234', 'name': 'Василий Гупкин'},\n",
    "    {'type': 'invoice', 'number': '11-2', 'name': 'Геннадий Покемонов'},\n",
    "    {'type': 'insurance', 'number': '10006', 'name': 'Аристарх Павлов'},\n",
    "    {'type': 'passport', 'number': '9999 999999', 'name': 'Иван Безфамильный'}\n",
    "   ]"
   ]
  },
  {
   "cell_type": "markdown",
   "metadata": {},
   "source": [
    "Перечень полок, на которых находятся документы хранится в следующем виде:"
   ]
  },
  {
   "cell_type": "code",
   "execution_count": 164,
   "metadata": {},
   "outputs": [],
   "source": [
    "directories = {\n",
    "    '1': ['2207 876234', '11-2', '5455 028765'],\n",
    "    '2': ['10006', '5400 028765', '5455 002299'],\n",
    "    '3': []\n",
    "}"
   ]
  },
  {
   "cell_type": "markdown",
   "metadata": {},
   "source": [
    "Необходимо реализовать пользовательские команды (внимание! это не название функций, которые должны быть выразительными, а команды, которые вводит пользователь, чтобы получить необходимый результат):\n",
    "  \n",
    "- p – people – команда, которая спросит номер документа и выведет имя человека, которому он принадлежит;  \n",
    "- s – shelf – команда, которая спросит номер документа и выведет номер полки, на которой он находится  \n",
    "Правильно обработайте ситуацию, когда пользователь будет вводить несуществующий документ.\n",
    "- l – list – команда, которая выведет список всех документов в формате   \n",
    "**passport \"2207 876234\" \"Василий Гупкин\"**  \n",
    "- as – add shelf – команда, которая спросит номер новой полки и добавит ее в перечень\n",
    "- d – delete – команда, которая спросит номер документа и удалит его из каталога и из перечня полок. Предусмотрите сценарий, когда пользователь вводит несуществующий документ;  \n",
    "- m – move – команда, которая спросит номер документа и целевую полку и переместит его с текущей полки на целевую. Корректно обработайте кейсы, когда пользователь пытается переместить несуществующий документ или переместить документ на несуществующую полку;  \n",
    "- a – add – команда, которая добавит новый документ в каталог и в перечень полок, спросив его номер, тип, имя владельца и номер полки, на котором он будет храниться."
   ]
  },
  {
   "cell_type": "code",
   "execution_count": 160,
   "metadata": {},
   "outputs": [],
   "source": [
    "# p – people – команда, которая спросит номер документа и выведет имя человека, которому он принадлежит\n",
    "# Правильно обработайте ситуацию, когда пользователь будет вводить несуществующий документ\n",
    "def find_people():\n",
    "    doc_input = input('Введите номер документа: ')\n",
    "    i = 0\n",
    "    for document in documents:\n",
    "        if str(document['number']) == doc_input:\n",
    "            print('Документ оформлен на имя:', document['name'])\n",
    "        else:\n",
    "            i += 1\n",
    "            if i == len(documents):\n",
    "                print('Документ с номером', doc_input, 'не найден в каталоге') \n",
    "    \n",
    "    return \n",
    "# find_people()            "
   ]
  },
  {
   "cell_type": "code",
   "execution_count": 161,
   "metadata": {},
   "outputs": [],
   "source": [
    "# s – shelf – команда, которая спросит номер документа и выведет номер полки, на которой он находится\n",
    "# list(directories.values())[1]\n",
    "def find_shelf():\n",
    "    doc_input = input('Введите номер документа: ')\n",
    "    i = 0\n",
    "    for shelf in directories:\n",
    "        if doc_input in directories[shelf]:\n",
    "            print('Номер полки, на которой находится документ:', shelf)\n",
    "        else:\n",
    "            i += 1\n",
    "            if i == len(directories):\n",
    "                print('Документ с номером', doc_input, 'не найден в перечне полок')\n",
    "                \n",
    "    return\n",
    "# find_shelf()"
   ]
  },
  {
   "cell_type": "code",
   "execution_count": 10,
   "metadata": {},
   "outputs": [],
   "source": [
    "# l – list – команда, которая выведет список всех документов в формате passport \"2207 876234\" \"Василий Гупкин\"\n",
    "def list_documents():\n",
    "    print('Список всех документов:')\n",
    "    for document in documents:\n",
    "        print(document['type'], document['number'], document['name'])\n",
    "    return\n",
    "# list_documents()    "
   ]
  },
  {
   "cell_type": "code",
   "execution_count": 11,
   "metadata": {},
   "outputs": [],
   "source": [
    "# as – add shelf – команда, которая спросит номер новой полки и добавит ее в перечень\n",
    "def adding_shelf():\n",
    "    shelf_num = input('Введите номер новой полки: ')\n",
    "    if shelf_num in directories: \n",
    "        print('Полка с номером', shelf_num, 'уже существует')\n",
    "    else:\n",
    "        directories[shelf_num] = []\n",
    "        print('Добавлена новая полка с номером', shelf_num)\n",
    "    return\n",
    "# adding_shelf()\n",
    "# print(directories)"
   ]
  },
  {
   "cell_type": "code",
   "execution_count": 40,
   "metadata": {},
   "outputs": [],
   "source": [
    "# d – delete – команда, которая спросит номер документа и удалит его из каталога и из перечня полок. \n",
    "# Предусмотрите сценарий, когда пользователь вводит несуществующий документ.\n",
    "def delete_document():\n",
    "    doc_input = input('Введите номер документа: ')\n",
    "    i = 0\n",
    "    # удаление документа из каталога документов\n",
    "    for document in documents:\n",
    "        if str(document.get('number')) == doc_input:\n",
    "            del documents[i]\n",
    "#             del(document['number']) # удаление номера документа, а не самого документа\n",
    "            print('Документ с номером', doc_input, 'удален из каталога')\n",
    "        else:\n",
    "            i += 1\n",
    "            if i == len(documents):\n",
    "                print('Документ с номером', doc_input, 'не найден в каталоге')\n",
    "    # удаление документа из перечня полок\n",
    "    i = 0\n",
    "    for shelf in directories:\n",
    "        if doc_input in directories[shelf]:\n",
    "            directories[shelf].remove(doc_input)\n",
    "            print('Документ с номером', doc_input, 'удален из перечня полок')\n",
    "            break\n",
    "        else:\n",
    "            i += 1\n",
    "            if i == len(directories):\n",
    "                print('Документ с номером', doc_input, 'не найден в перечне полок')\n",
    "    return\n",
    "# print(documents)\n",
    "# print(directories)\n",
    "# delete_document()"
   ]
  },
  {
   "cell_type": "code",
   "execution_count": 156,
   "metadata": {},
   "outputs": [],
   "source": [
    "# m – move – команда, которая спросит номер документа и целевую полку и переместит его с текущей полки на целевую. \n",
    "# Корректно обработайте кейсы, когда пользователь пытается переместить несуществующий документ или \n",
    "# переместить документ на несуществующую полку\n",
    "\n",
    "def moving_document():\n",
    "    doc_input = input('Введите номер документа: ')\n",
    "    # по номеру документа получаем номер текущей полки\n",
    "    i = 0\n",
    "    for shelf in directories:\n",
    "        # если документ найден на полках\n",
    "        if doc_input in directories[shelf]:\n",
    "            print('Номер полки, на которой находится документ:', shelf) \n",
    "            # запрашиваем номер полки для перемещения\n",
    "            shelf_input = input('Введите номер полки для перемещения документа: ')\n",
    "            if shelf_input == shelf:\n",
    "                print('Номер полки для перемещения совпадает с текущей. Введите другой номер.')\n",
    "            else:\n",
    "                # перемещаем документ, если полка существует\n",
    "                if shelf_input in directories:\n",
    "                    directories[shelf_input].append(doc_input)\n",
    "                    directories[shelf].remove(doc_input)\n",
    "                    print('Документ с номером', doc_input, 'перемещен с полки', shelf, 'на полку', shelf_input)\n",
    "                    break\n",
    "                else:\n",
    "                    # если полка не существует выводим номера доступных полок\n",
    "                    print('Полка с номером', shelf_input, 'не существует. Доступные полки:', ','.join(list(directories.keys())))\n",
    "\n",
    "        else: # документ не найден на полках:\n",
    "            i += 1\n",
    "            if i == len(directories):\n",
    "                print('Документ с номером', doc_input, 'не найден в перечне полок.') \n",
    "                # проверка наличия документа в каталоге, если не найден на полке\n",
    "                j = 0\n",
    "                for document in documents:\n",
    "#                     print(str(document['number'])) # номер очередного документа в каталоге документов\n",
    "                    if str(document['number']) == doc_input:\n",
    "                        print('Есть такой документ в каталоге, нужно добавить на полку')\n",
    "                        # перемещение документа на целевую полку (де факто не было текущей полки)\n",
    "                        shelf_input = input('Введите номер полки для хранения документа:')\n",
    "                        if shelf_input in directories:\n",
    "                            # перемещаем документ на полку\n",
    "                            directories[shelf_input].append(doc_input)                \n",
    "                            print('Документ с номером', doc_input, 'перемещен на полку', shelf_input)\n",
    "\n",
    "                        else: # если полка не существует выводим номера доступных полок\n",
    "                            print('Полка с номером', shelf_input, 'не существует. Доступные полки:', ','.join(list(directories.keys())))\n",
    "\n",
    "                    else: # нет в каталоге и на полке\n",
    "    #                     print('продолжаем перебирать документы в каталоге')\n",
    "                        j += 1\n",
    "                        if j >= len(documents):\n",
    "                            print('Документ с номером', doc_input, 'не существует')\n",
    "\n",
    "    #         else:\n",
    "    #             print('продолжаем перебор полок')\n",
    "\n",
    "    return \n",
    "# moving_document()\n",
    "# print(documents)\n",
    "# print(directories)"
   ]
  },
  {
   "cell_type": "code",
   "execution_count": 7,
   "metadata": {},
   "outputs": [],
   "source": [
    "# a – add – команда, которая добавит новый документ в каталог и в перечень полок, спросив его номер, тип, имя владельца \n",
    "# и номер полки, на котором он будет храниться.\n",
    "def adding_document():\n",
    "    doc_input = input('Введите номер нового документа: ')\n",
    "    i = 0\n",
    "    # добавление документа в каталог документов\n",
    "    for document in documents:\n",
    "        if str(document['number']) == doc_input:\n",
    "            print('Документ с номером', doc_input, 'уже есть в каталоге')\n",
    "            break\n",
    "        else:\n",
    "            i += 1\n",
    "            if i >= len(documents):\n",
    "                doc_type = input('Введите тип документа: ')\n",
    "                doc_name = input('Введите фамилию и имя владельца документа: ')\n",
    "                d = {'type': doc_type, 'number': doc_input, 'name': doc_name}\n",
    "                documents.append(d)\n",
    "                print('Документ с номером', doc_input, 'добавлен в каталог')\n",
    "                break\n",
    "\n",
    "    # добавление документа в перечень полок\n",
    "    i = 0\n",
    "    for shelf in directories: # dictionary changed size during iteration\n",
    "    #         print(shelf)\n",
    "        if doc_input in directories[shelf]:\n",
    "            print('Документ находится на полке с номером:', shelf)\n",
    "            break\n",
    "        else:\n",
    "            i += 1\n",
    "            if i >= len(directories):\n",
    "                print('Доступные полки: ', ', '.join(list(directories.keys())))\n",
    "                shelf_input = input('Введите номер полки для хранения документа:')\n",
    "                directories[shelf_input].append(doc_input)\n",
    "                print('Документ с номером', doc_input, 'добавлен в перечень полок')\n",
    "                break\n",
    "    return\n",
    "# print(documents)\n",
    "# print(directories)\n",
    "# adding_document()"
   ]
  },
  {
   "cell_type": "code",
   "execution_count": 165,
   "metadata": {},
   "outputs": [
    {
     "name": "stdout",
     "output_type": "stream",
     "text": [
      "Введите команду: p\n",
      "Введите номер документа: 9999 999999\n",
      "Документ оформлен на имя: Иван Безфамильный\n"
     ]
    }
   ],
   "source": [
    "instruction = input('Введите команду: ')\n",
    "if instruction == 'p':\n",
    "# p – people – команда, которая спросит номер документа и выведет имя человека\n",
    "    find_people()\n",
    "elif instruction == 's':\n",
    "    # s – shelf – команда, которая спросит номер документа и выведет номер полки, на которой он находится\n",
    "    find_shelf()\n",
    "elif instruction == 'l':\n",
    "    # l – list – команда, которая выведет список всех документов\n",
    "    list_documents()\n",
    "elif instruction == 'as':\n",
    "    # as – add shelf – команда, которая спросит номер новой полки и добавит ее в перечень\n",
    "    adding_shelf()\n",
    "elif instruction == 'd':\n",
    "    # d – delete – команда, которая спросит номер документа и удалит его из каталога и из перечня полок.\n",
    "    delete_document()\n",
    "elif instruction == 'm':\n",
    "    # m – move – команда, которая спросит номер документа и целевую полку и переместит его с текущей полки на целевую.\n",
    "    moving_document()\n",
    "elif instruction == 'a':\n",
    "    # a – add – команда, которая добавит новый документ в каталог и в перечень полок\n",
    "    adding_document()\n",
    "else:\n",
    "    print('Команда введена неверно. Повторите команду.')"
   ]
  },
  {
   "cell_type": "code",
   "execution_count": null,
   "metadata": {},
   "outputs": [],
   "source": []
  }
 ],
 "metadata": {
  "kernelspec": {
   "display_name": "Python 3",
   "language": "python",
   "name": "python3"
  },
  "language_info": {
   "codemirror_mode": {
    "name": "ipython",
    "version": 3
   },
   "file_extension": ".py",
   "mimetype": "text/x-python",
   "name": "python",
   "nbconvert_exporter": "python",
   "pygments_lexer": "ipython3",
   "version": "3.7.3"
  }
 },
 "nbformat": 4,
 "nbformat_minor": 2
}
