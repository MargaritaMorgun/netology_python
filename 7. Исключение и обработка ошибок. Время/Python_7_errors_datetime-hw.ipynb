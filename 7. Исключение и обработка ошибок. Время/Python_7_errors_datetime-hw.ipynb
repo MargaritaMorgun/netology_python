{
 "cells": [
  {
   "cell_type": "markdown",
   "metadata": {},
   "source": [
    "**Задание 1**\n",
    "\n",
    "Напишите функцию date_range, которая возвращает список дней между датами start_date и end_date. \n",
    "Даты должны вводиться в формате YYYY-MM-DD."
   ]
  },
  {
   "cell_type": "code",
   "execution_count": 29,
   "metadata": {},
   "outputs": [],
   "source": [
    "from datetime import date\n",
    "from datetime import datetime\n",
    "from datetime import timedelta"
   ]
  },
  {
   "cell_type": "code",
   "execution_count": 30,
   "metadata": {},
   "outputs": [
    {
     "name": "stdout",
     "output_type": "stream",
     "text": [
      "Введите начальную дату (в формате YYYY-MM-DD): 2020-01-27\n",
      "Введите конечную дату (в формате YYYY-MM-DD): 2020-01-31\n",
      "Список дней между указанными датами: \n"
     ]
    },
    {
     "data": {
      "text/plain": [
       "['2020-01-27', '2020-01-28', '2020-01-29', '2020-01-30']"
      ]
     },
     "execution_count": 30,
     "metadata": {},
     "output_type": "execute_result"
    }
   ],
   "source": [
    "# список дней между датами start_date и end_date\n",
    "def date_range(): \n",
    "    start_date = input('Введите начальную дату (в формате YYYY-MM-DD): ')\n",
    "    end_date = input('Введите конечную дату (в формате YYYY-MM-DD): ')\n",
    "    start_date_dt = datetime.strptime(start_date, '%Y-%m-%d')\n",
    "    end_date_dt = datetime.strptime(end_date, '%Y-%m-%d')\n",
    "#     dif = (end_date_dt - start_date_dt).days\n",
    "#     print('Между указанными датами', dif, 'дней')\n",
    "    print('Список дней между указанными датами: ')\n",
    "    list_dates = []\n",
    "#     print(list_dates)\n",
    "    while start_date_dt < end_date_dt:\n",
    "        list_dates.append(start_date_dt.strftime('%Y-%m-%d'))\n",
    "        start_date_dt += timedelta(days=1)\n",
    "    return list_dates\n",
    "date_range()"
   ]
  },
  {
   "cell_type": "code",
   "execution_count": null,
   "metadata": {},
   "outputs": [],
   "source": []
  },
  {
   "cell_type": "markdown",
   "metadata": {},
   "source": [
    "**Задание 2**\n",
    "\n",
    "Дополните функцию из первого задания проверкой на корректность дат. \n",
    "В случае неверного формата или если start_date > end_date должен возвращаться пустой список."
   ]
  },
  {
   "cell_type": "code",
   "execution_count": 31,
   "metadata": {},
   "outputs": [],
   "source": [
    "# start_date = input('Введите начальную дату (в формате YYYY-MM-DD): ')\n",
    "def validation_date(date):\n",
    "    try:\n",
    "        date_dt = datetime.strptime(date, '%Y-%m-%d')\n",
    "#         print('date_dt = ', date_dt)\n",
    "        return date_dt\n",
    "    except:\n",
    "        print('Дата', date, 'введена неправильно или не существует') \n",
    "        return"
   ]
  },
  {
   "cell_type": "code",
   "execution_count": null,
   "metadata": {},
   "outputs": [],
   "source": []
  },
  {
   "cell_type": "code",
   "execution_count": 40,
   "metadata": {},
   "outputs": [
    {
     "name": "stdout",
     "output_type": "stream",
     "text": [
      "Введите начальную дату (в формате YYYY-MM-DD): 2020-13-01\n",
      "Дата 2020-13-01 введена неправильно или не существует\n",
      "Введите конечную дату (в формате YYYY-MM-DD): 2020-01-24\n",
      "Список дней между указанными датами:  []\n"
     ]
    }
   ],
   "source": [
    "# вариант №1\n",
    "def date_range(): \n",
    "    start_date = input('Введите начальную дату (в формате YYYY-MM-DD): ')\n",
    "    start_date_dt = validation_date(start_date)\n",
    "#     while start_date_dt == None:\n",
    "#         start_date = input('Повторите ввод начальной даты (в формате YYYY-MM-DD): ') \n",
    "#         start_date_dt = validation_date(start_date)\n",
    "    \n",
    "    end_date = input('Введите конечную дату (в формате YYYY-MM-DD): ')\n",
    "    end_date_dt = validation_date(end_date)\n",
    "#     while end_date_dt == None:\n",
    "#         end_date = input('Повторите ввод конечной даты (в формате YYYY-MM-DD): ') \n",
    "#         end_date_dt = validation_date(end_date)\n",
    "        \n",
    "    try:\n",
    "        list_dates = []\n",
    "        while start_date_dt < end_date_dt:\n",
    "            list_dates.append(start_date_dt.strftime('%Y-%m-%d'))\n",
    "            start_date_dt += timedelta(days=1)\n",
    "\n",
    "        print('Список дней между указанными датами: ', list_dates)\n",
    "        if list_dates == []:\n",
    "            print('Конечная дата меньше или совпадает с начальной') \n",
    "            \n",
    "#         return list_dates\n",
    "\n",
    "    except:\n",
    "        print('Список дней между указанными датами: ', list_dates)\n",
    "\n",
    "    return\n",
    "date_range()"
   ]
  },
  {
   "cell_type": "code",
   "execution_count": null,
   "metadata": {},
   "outputs": [],
   "source": []
  },
  {
   "cell_type": "code",
   "execution_count": 44,
   "metadata": {},
   "outputs": [
    {
     "name": "stdout",
     "output_type": "stream",
     "text": [
      "Введите начальную дату (в формате YYYY-MM-DD): 2020-01-31\n",
      "Введите конечную дату (в формате YYYY-MM-DD): 2020-01-24\n",
      "Конечная дата меньше или совпадает с начальной. Список дней между указанными датами:  []\n"
     ]
    }
   ],
   "source": [
    "# вариант №2\n",
    "def date_range(): \n",
    "    start_date = input('Введите начальную дату (в формате YYYY-MM-DD): ')\n",
    "    start_date_dt = validation_date(start_date)\n",
    "\n",
    "    end_date = input('Введите конечную дату (в формате YYYY-MM-DD): ')\n",
    "    end_date_dt = validation_date(end_date)\n",
    "\n",
    "    try:\n",
    "        list_dates = []\n",
    "        dif = (end_date_dt - start_date_dt).days\n",
    "        if dif <= 0:\n",
    "            print('Конечная дата меньше или совпадает с начальной. Список дней между указанными датами: ', list_dates)\n",
    "   \n",
    "        for i in range(1, dif+1):\n",
    "            list_dates.append(start_date_dt.strftime('%Y-%m-%d'))\n",
    "            start_date_dt += timedelta(days=1)\n",
    "            if i == dif:\n",
    "                print('Список дней между указанными датами: ', list_dates)\n",
    "\n",
    "    except:\n",
    "        print('Список дней между указанными датами: ', list_dates)\n",
    "    return\n",
    "date_range()"
   ]
  },
  {
   "cell_type": "markdown",
   "metadata": {},
   "source": [
    "**Задание 3**\n",
    "\n",
    "Дан поток дат в формате YYYY-MM-DD, в которых встречаются некорректные значения:\n",
    "stream = ['2018-04-02', '2018-02-29', '2018-19-02']\n",
    "Напишите функцию, которая проверяет эти даты на корректность. \n",
    "Т.е. для каждой даты возвращает True (дата корректна) или False (некорректная дата)."
   ]
  },
  {
   "cell_type": "code",
   "execution_count": 45,
   "metadata": {},
   "outputs": [
    {
     "name": "stdout",
     "output_type": "stream",
     "text": [
      "2018-04-02 True\n",
      "2018-02-29 False\n",
      "2018-19-02 False\n"
     ]
    }
   ],
   "source": [
    "def validation_date_stream(stream):\n",
    "    for date in stream:\n",
    "#         print(date)\n",
    "        try:\n",
    "            date_dt1 = datetime.strptime(date, '%Y-%m-%d')\n",
    "            print(date, True)\n",
    "        except:\n",
    "            print(date, False)\n",
    "    return\n",
    "    \n",
    "validation_date_stream(['2018-04-02', '2018-02-29', '2018-19-02'])"
   ]
  },
  {
   "cell_type": "code",
   "execution_count": 48,
   "metadata": {},
   "outputs": [],
   "source": [
    "stream = ['2018-04-02', '2018-02-29', '2018-19-02']"
   ]
  },
  {
   "cell_type": "markdown",
   "metadata": {},
   "source": [
    "**Задание 4 (бонусное)**\n",
    "Ваш коллега прислал код функции:\n",
    "\n",
    "DEFAULT_USER_COUNT = 3\n",
    "def delete_and_return_last_user(region, default_list=['A100', 'A101', 'A102']):\n",
    "    \"\"\"\n",
    "    \n",
    "Удаляет из списка default_list последнего пользователя \n",
    "    и возвращает ID нового последнего пользователя.\n",
    "    \"\"\"\n",
    "    \n",
    "element_to_delete = default_list[-1]\n",
    "    default_list.remove(element_to_delete)\n",
    "    return default_list[DEFAULT_USER_COUNT-2]\n",
    "\n",
    "При однократном вызове этой функции все работает корректно:\n",
    "delete_and_return_last_user(1)\n",
    "'A101'\n",
    "Однако, при повторном вызове получается ошибка IndexError: list index out of range.\n",
    "\n",
    "Задание:\n",
    "1. Что значит ошибка list index out of range?\n",
    "2. Почему при первом запуске функция работает корректно, а при втором - нет?"
   ]
  },
  {
   "cell_type": "code",
   "execution_count": 32,
   "metadata": {},
   "outputs": [],
   "source": [
    "DEFAULT_USER_COUNT = 3\n",
    "def delete_and_return_last_user(region, default_list=['A100', 'A101', 'A102']):\n",
    "#     print(default_list)\n",
    "    \"\"\"\n",
    "\n",
    "Удаляет из списка default_list последнего пользователя \n",
    "    и возвращает ID нового последнего пользователя.\n",
    "    \"\"\"\n",
    "    element_to_delete = default_list[-1]\n",
    "    default_list.remove(element_to_delete)\n",
    "#     print(default_list)\n",
    "    return default_list[DEFAULT_USER_COUNT-2]"
   ]
  },
  {
   "cell_type": "code",
   "execution_count": null,
   "metadata": {},
   "outputs": [],
   "source": [
    "# Ошибка возникает в случае, если default_list=['A100', 'A101', 'A102'] передается в функцию при первом запуске, \n",
    "# а при последующих - список после удаления последнего элемента.\n",
    "\n",
    "# п.1.Что значит ошибка list index out of range? \n",
    "# Обращаясь к объекту (списку), вышли за его границы.\n",
    "\n",
    "# п.2.Почему при первом запуске функция работает корректно, а при втором - нет?\n",
    "# Индекс последнего, после удаления, элемента определяется некорректно: [DEFAULT_USER_COUNT-2]. Всегда [1].\n",
    "# При первом запуске список состоит из 3-ех элементов, после удаления, действительно, возвращается последний элемент.\n",
    "# При повторном запуске список из 2-ух элементов, после удаления остается элемент [0], а возвращается несуществующий элемент."
   ]
  },
  {
   "cell_type": "code",
   "execution_count": 56,
   "metadata": {},
   "outputs": [],
   "source": [
    "DEFAULT_USER_COUNT = 3\n",
    "default_list=['A100', 'A101', 'A102']"
   ]
  },
  {
   "cell_type": "code",
   "execution_count": 58,
   "metadata": {},
   "outputs": [
    {
     "name": "stdout",
     "output_type": "stream",
     "text": [
      "['A100', 'A101']\n",
      "['A100']\n"
     ]
    },
    {
     "ename": "IndexError",
     "evalue": "list index out of range",
     "output_type": "error",
     "traceback": [
      "\u001b[1;31m---------------------------------------------------------------------------\u001b[0m",
      "\u001b[1;31mIndexError\u001b[0m                                Traceback (most recent call last)",
      "\u001b[1;32m<ipython-input-58-74d6ef87bc79>\u001b[0m in \u001b[0;36m<module>\u001b[1;34m\u001b[0m\n\u001b[0;32m     10\u001b[0m     \u001b[0mprint\u001b[0m\u001b[1;33m(\u001b[0m\u001b[0mdefault_list\u001b[0m\u001b[1;33m)\u001b[0m\u001b[1;33m\u001b[0m\u001b[1;33m\u001b[0m\u001b[0m\n\u001b[0;32m     11\u001b[0m     \u001b[1;32mreturn\u001b[0m \u001b[0mdefault_list\u001b[0m\u001b[1;33m[\u001b[0m\u001b[0mDEFAULT_USER_COUNT\u001b[0m\u001b[1;33m-\u001b[0m\u001b[1;36m2\u001b[0m\u001b[1;33m]\u001b[0m\u001b[1;33m\u001b[0m\u001b[1;33m\u001b[0m\u001b[0m\n\u001b[1;32m---> 12\u001b[1;33m \u001b[0mdelete_and_return_last_user\u001b[0m\u001b[1;33m(\u001b[0m\u001b[0mdefault_list\u001b[0m\u001b[1;33m)\u001b[0m\u001b[1;33m\u001b[0m\u001b[1;33m\u001b[0m\u001b[0m\n\u001b[0m",
      "\u001b[1;32m<ipython-input-58-74d6ef87bc79>\u001b[0m in \u001b[0;36mdelete_and_return_last_user\u001b[1;34m(default_list)\u001b[0m\n\u001b[0;32m      9\u001b[0m     \u001b[0mdefault_list\u001b[0m\u001b[1;33m.\u001b[0m\u001b[0mremove\u001b[0m\u001b[1;33m(\u001b[0m\u001b[0melement_to_delete\u001b[0m\u001b[1;33m)\u001b[0m\u001b[1;33m\u001b[0m\u001b[1;33m\u001b[0m\u001b[0m\n\u001b[0;32m     10\u001b[0m     \u001b[0mprint\u001b[0m\u001b[1;33m(\u001b[0m\u001b[0mdefault_list\u001b[0m\u001b[1;33m)\u001b[0m\u001b[1;33m\u001b[0m\u001b[1;33m\u001b[0m\u001b[0m\n\u001b[1;32m---> 11\u001b[1;33m     \u001b[1;32mreturn\u001b[0m \u001b[0mdefault_list\u001b[0m\u001b[1;33m[\u001b[0m\u001b[0mDEFAULT_USER_COUNT\u001b[0m\u001b[1;33m-\u001b[0m\u001b[1;36m2\u001b[0m\u001b[1;33m]\u001b[0m\u001b[1;33m\u001b[0m\u001b[1;33m\u001b[0m\u001b[0m\n\u001b[0m\u001b[0;32m     12\u001b[0m \u001b[0mdelete_and_return_last_user\u001b[0m\u001b[1;33m(\u001b[0m\u001b[0mdefault_list\u001b[0m\u001b[1;33m)\u001b[0m\u001b[1;33m\u001b[0m\u001b[1;33m\u001b[0m\u001b[0m\n",
      "\u001b[1;31mIndexError\u001b[0m: list index out of range"
     ]
    }
   ],
   "source": [
    "def delete_and_return_last_user(default_list):\n",
    "    print(default_list)\n",
    "    \"\"\"\n",
    "\n",
    "Удаляет из списка default_list последнего пользователя \n",
    "    и возвращает ID нового последнего пользователя.\n",
    "    \"\"\"\n",
    "    element_to_delete = default_list[-1]\n",
    "    default_list.remove(element_to_delete)\n",
    "    print(default_list)\n",
    "    return default_list[DEFAULT_USER_COUNT-2]\n",
    "delete_and_return_last_user(default_list)"
   ]
  }
 ],
 "metadata": {
  "kernelspec": {
   "display_name": "Python 3",
   "language": "python",
   "name": "python3"
  },
  "language_info": {
   "codemirror_mode": {
    "name": "ipython",
    "version": 3
   },
   "file_extension": ".py",
   "mimetype": "text/x-python",
   "name": "python",
   "nbconvert_exporter": "python",
   "pygments_lexer": "ipython3",
   "version": "3.7.3"
  }
 },
 "nbformat": 4,
 "nbformat_minor": 2
}
