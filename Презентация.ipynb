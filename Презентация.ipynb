{
  "nbformat": 4,
  "nbformat_minor": 0,
  "metadata": {
    "colab": {
      "provenance": [],
      "authorship_tag": "ABX9TyPL4eRRQEzTNFau8hJgS1l5",
      "include_colab_link": true
    },
    "kernelspec": {
      "name": "python3",
      "display_name": "Python 3"
    },
    "language_info": {
      "name": "python"
    }
  },
  "cells": [
    {
      "cell_type": "markdown",
      "metadata": {
        "id": "view-in-github",
        "colab_type": "text"
      },
      "source": [
        "<a href=\"https://colab.research.google.com/github/MargaritaMorgun/netology_python/blob/master/%D0%9F%D1%80%D0%B5%D0%B7%D0%B5%D0%BD%D1%82%D0%B0%D1%86%D0%B8%D1%8F.ipynb\" target=\"_parent\"><img src=\"https://colab.research.google.com/assets/colab-badge.svg\" alt=\"Open In Colab\"/></a>"
      ]
    },
    {
      "cell_type": "markdown",
      "source": [
        "Итоговая работа по курсу «Python и математика для анализа данных»\n",
        "import pandas as pd\n",
        "import numpy as np\n",
        "import seaborn as sns\n",
        "import statistics\n",
        "import matplotlib.pyplot as plt\n",
        "import scipy.stats as sts\n",
        "\n",
        "\n"
      ],
      "metadata": {
        "id": "GIrrzaODugqN"
      }
    },
    {
      "cell_type": "code",
      "source": [
        "import pandas as pd\n",
        "import numpy as np\n",
        "import seaborn as sns\n",
        "import statistics\n",
        "import matplotlib.pyplot as plt\n",
        "import scipy.stats as sts\n",
        "%pylab inline\n",
        "# %matplotlib inline\n",
        "\n",
        "from scipy.stats import normaltest\n",
        "from scipy.stats import anderson\n",
        "# from scipy.stats import spearmanr\n",
        "# from scipy.stats import kendalltau\n",
        "import researchpy as rp"
      ],
      "metadata": {
        "id": "6d5u1dm4vH5x"
      },
      "execution_count": null,
      "outputs": []
    },
    {
      "cell_type": "markdown",
      "source": [
        "Populating the interactive namespace from numpy and matplotlib\n",
        "1. Загрузить файл hr.csv."
      ],
      "metadata": {
        "id": "_6K4aUQ6vP8S"
      }
    },
    {
      "cell_type": "code",
      "source": [
        "hr = pd.read_csv('HR.csv')\n",
        "hr.head()"
      ],
      "metadata": {
        "id": "ZtdQ9_YFvUGd"
      },
      "execution_count": null,
      "outputs": []
    },
    {
      "cell_type": "markdown",
      "source": [
        "atisfaction_level\tlast_evaluation\tnumber_project\taverage_montly_hours\ttime_spend_company\tWork_accident\tleft\tpromotion_last_5years\tsales\tsalary\n",
        "0\t0.38\t0.53\t2\t157\t3\t0\t1\t0\tsales\tlow\n",
        "1\t0.80\t0.86\t5\t262\t6\t0\t1\t0\tsales\tmedium\n",
        "2\t0.11\t0.88\t7\t272\t4\t0\t1\t0\tsales\tmedium\n",
        "3\t0.72\t0.87\t5\t223\t5\t0\t1\t0\tsales\tlow\n",
        "4\t0.37\t0.52\t2\t159\t3\t0\t1\t0\tsales\tlow\n"
      ],
      "metadata": {
        "id": "PDP7ySAmvZht"
      }
    }
  ]
}